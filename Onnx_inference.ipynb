{
  "nbformat": 4,
  "nbformat_minor": 0,
  "metadata": {
    "colab": {
      "provenance": [],
      "authorship_tag": "ABX9TyMMeZdqQBG3He6gzsSbPYHR",
      "include_colab_link": true
    },
    "kernelspec": {
      "name": "python3",
      "display_name": "Python 3"
    },
    "language_info": {
      "name": "python"
    }
  },
  "cells": [
    {
      "cell_type": "markdown",
      "metadata": {
        "id": "view-in-github",
        "colab_type": "text"
      },
      "source": [
        "<a href=\"https://colab.research.google.com/github/Dimildizio/WorksOnMyMachine/blob/main/Onnx_inference.ipynb\" target=\"_parent\"><img src=\"https://colab.research.google.com/assets/colab-badge.svg\" alt=\"Open In Colab\"/></a>"
      ]
    },
    {
      "cell_type": "code",
      "source": [
        "from IPython.display import clear_output"
      ],
      "metadata": {
        "id": "IReTmbpbO7oy"
      },
      "execution_count": 41,
      "outputs": []
    },
    {
      "cell_type": "markdown",
      "source": [
        "### Install onnx runtime"
      ],
      "metadata": {
        "id": "JZ7KG07OR1FR"
      }
    },
    {
      "cell_type": "code",
      "execution_count": 43,
      "metadata": {
        "id": "0GswrLs2HB4I"
      },
      "outputs": [],
      "source": [
        "!pip install onnxruntime\n",
        "clear_output()"
      ]
    },
    {
      "cell_type": "markdown",
      "source": [
        "### Download an onnx model"
      ],
      "metadata": {
        "id": "S4jIjlEKR5QV"
      }
    },
    {
      "cell_type": "code",
      "source": [
        "!wget https://github.com/Dimildizio/WorksOnMyMachine/raw/main/app/models/titanicboost.onnx\n",
        "clear_output()"
      ],
      "metadata": {
        "id": "AICYiWxgH9_s"
      },
      "execution_count": 45,
      "outputs": []
    },
    {
      "cell_type": "markdown",
      "source": [
        "### Import libs"
      ],
      "metadata": {
        "id": "kEZFmd8gR9EI"
      }
    },
    {
      "cell_type": "code",
      "source": [
        "import onnxruntime as ort\n",
        "import pandas as pd\n",
        "import numpy as np"
      ],
      "metadata": {
        "id": "bLlhab7ZHSON"
      },
      "execution_count": 17,
      "outputs": []
    },
    {
      "cell_type": "markdown",
      "source": [
        "### Get model for inference"
      ],
      "metadata": {
        "id": "lVufdEr5SAix"
      }
    },
    {
      "cell_type": "code",
      "source": [
        "model = ort.InferenceSession('titan.onnx')"
      ],
      "metadata": {
        "id": "vO9seoAcHUiN"
      },
      "execution_count": 12,
      "outputs": []
    },
    {
      "cell_type": "code",
      "source": [
        "for name in model.get_outputs():\n",
        "  print(name.name)"
      ],
      "metadata": {
        "colab": {
          "base_uri": "https://localhost:8080/"
        },
        "id": "5hkiUS9XMdZp",
        "outputId": "17949591-bf57-4011-b763-3d1b5cbae034"
      },
      "execution_count": 39,
      "outputs": [
        {
          "output_type": "stream",
          "name": "stdout",
          "text": [
            "label\n",
            "probabilities\n"
          ]
        }
      ]
    },
    {
      "cell_type": "markdown",
      "source": [
        "### Create an entry example to pass on inference"
      ],
      "metadata": {
        "id": "fj1OT1USSKzC"
      }
    },
    {
      "cell_type": "code",
      "source": [
        "input_names = pd.DataFrame({'Age':33, \"Sex\":1, 'Title':1, 'Deck':1,\n",
        "                            \"Embarked\":1, 'Pclass':1, 'PersonFare':7, 'Fare':7,\n",
        "                            'Family_size':1, 'SibSp':0, 'Parch':0},\n",
        "                            index = [0]).astype(np.float32)\n",
        "input_list = input_names.values"
      ],
      "metadata": {
        "id": "La7IKnsQSLJq"
      },
      "execution_count": null,
      "outputs": []
    },
    {
      "cell_type": "markdown",
      "source": [
        "### Run inference"
      ],
      "metadata": {
        "id": "OhExO-KOSZab"
      }
    },
    {
      "cell_type": "code",
      "source": [
        "label = model.run([\"label\"], {'features':input_list})\n",
        "probability = model.run([\"probabilities\"], {'features':input_list})"
      ],
      "metadata": {
        "id": "5ThOLtAEIlZi"
      },
      "execution_count": 53,
      "outputs": []
    },
    {
      "cell_type": "markdown",
      "source": [
        "### Show our results"
      ],
      "metadata": {
        "id": "3goMGWiqSeCV"
      }
    },
    {
      "cell_type": "code",
      "source": [
        "result_label = label[0][0]\n",
        "result_prob = probability[0][0][result_label]\n",
        "no = '' if result_label else \"n't\"\n",
        "survived = f\"You have{no} survived with probability of {round(100*result_prob,2)}%\"\n",
        "print(survived)"
      ],
      "metadata": {
        "colab": {
          "base_uri": "https://localhost:8080/"
        },
        "id": "WDoZ9uoOSeXA",
        "outputId": "de1a49af-e958-4e6d-984c-c01feb282655"
      },
      "execution_count": 68,
      "outputs": [
        {
          "output_type": "stream",
          "name": "stdout",
          "text": [
            "You have survived with probability of 54.4%\n"
          ]
        }
      ]
    }
  ]
}